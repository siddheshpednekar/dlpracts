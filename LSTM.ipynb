{
  "nbformat": 4,
  "nbformat_minor": 0,
  "metadata": {
    "colab": {
      "name": "LSTM.ipynb",
      "provenance": [],
      "collapsed_sections": [],
      "include_colab_link": true
    },
    "kernelspec": {
      "name": "python3",
      "display_name": "Python 3"
    },
    "language_info": {
      "name": "python"
    }
  },
  "cells": [
    {
      "cell_type": "markdown",
      "metadata": {
        "id": "view-in-github",
        "colab_type": "text"
      },
      "source": [
        "<a href=\"https://colab.research.google.com/github/siddheshpednekar/dlpracts/blob/main/LSTM.ipynb\" target=\"_parent\"><img src=\"https://colab.research.google.com/assets/colab-badge.svg\" alt=\"Open In Colab\"/></a>"
      ]
    },
    {
      "cell_type": "code",
      "execution_count": null,
      "metadata": {
        "id": "U92mhY7N21k6"
      },
      "outputs": [],
      "source": [
        "import pandas_datareader as pdr"
      ]
    },
    {
      "cell_type": "code",
      "source": [
        "df=pdr.DataReader('AAPL','yahoo')\n",
        "df"
      ],
      "metadata": {
        "colab": {
          "base_uri": "https://localhost:8080/",
          "height": 655
        },
        "id": "Ul3Y4SNx27W9",
        "outputId": "a2a45e83-57c2-4e0c-9a62-fe8eedd12c9f"
      },
      "execution_count": null,
      "outputs": [
        {
          "output_type": "execute_result",
          "data": {
            "text/plain": [
              "                  High         Low        Open       Close       Volume  \\\n",
              "Date                                                                      \n",
              "2017-08-18   39.875000   39.180000   39.465000   39.375000  109712400.0   \n",
              "2017-08-21   39.472500   38.777500   39.375000   39.302502  105474000.0   \n",
              "2017-08-22   40.000000   39.505001   39.557499   39.945000   86418400.0   \n",
              "2017-08-23   40.117500   39.720001   39.767502   39.994999   77596400.0   \n",
              "2017-08-24   40.185001   39.637501   40.107498   39.817501   79275600.0   \n",
              "...                ...         ...         ...         ...          ...   \n",
              "2022-08-10  169.339996  166.899994  167.679993  169.240005   70170500.0   \n",
              "2022-08-11  170.990005  168.190002  170.059998  168.490005   57149200.0   \n",
              "2022-08-12  172.169998  169.399994  169.820007  172.100006   67946400.0   \n",
              "2022-08-15  173.389999  171.350006  171.520004  173.190002   54091700.0   \n",
              "2022-08-16  173.710007  171.660004  172.779999  173.029999   56180100.0   \n",
              "\n",
              "             Adj Close  \n",
              "Date                    \n",
              "2017-08-18   37.369446  \n",
              "2017-08-21   37.300640  \n",
              "2017-08-22   37.910412  \n",
              "2017-08-23   37.957867  \n",
              "2017-08-24   37.789410  \n",
              "...                ...  \n",
              "2022-08-10  169.240005  \n",
              "2022-08-11  168.490005  \n",
              "2022-08-12  172.100006  \n",
              "2022-08-15  173.190002  \n",
              "2022-08-16  173.029999  \n",
              "\n",
              "[1257 rows x 6 columns]"
            ],
            "text/html": [
              "\n",
              "  <div id=\"df-565c2e22-49c9-430b-98b0-f3a81765666e\">\n",
              "    <div class=\"colab-df-container\">\n",
              "      <div>\n",
              "<style scoped>\n",
              "    .dataframe tbody tr th:only-of-type {\n",
              "        vertical-align: middle;\n",
              "    }\n",
              "\n",
              "    .dataframe tbody tr th {\n",
              "        vertical-align: top;\n",
              "    }\n",
              "\n",
              "    .dataframe thead th {\n",
              "        text-align: right;\n",
              "    }\n",
              "</style>\n",
              "<table border=\"1\" class=\"dataframe\">\n",
              "  <thead>\n",
              "    <tr style=\"text-align: right;\">\n",
              "      <th></th>\n",
              "      <th>High</th>\n",
              "      <th>Low</th>\n",
              "      <th>Open</th>\n",
              "      <th>Close</th>\n",
              "      <th>Volume</th>\n",
              "      <th>Adj Close</th>\n",
              "    </tr>\n",
              "    <tr>\n",
              "      <th>Date</th>\n",
              "      <th></th>\n",
              "      <th></th>\n",
              "      <th></th>\n",
              "      <th></th>\n",
              "      <th></th>\n",
              "      <th></th>\n",
              "    </tr>\n",
              "  </thead>\n",
              "  <tbody>\n",
              "    <tr>\n",
              "      <th>2017-08-18</th>\n",
              "      <td>39.875000</td>\n",
              "      <td>39.180000</td>\n",
              "      <td>39.465000</td>\n",
              "      <td>39.375000</td>\n",
              "      <td>109712400.0</td>\n",
              "      <td>37.369446</td>\n",
              "    </tr>\n",
              "    <tr>\n",
              "      <th>2017-08-21</th>\n",
              "      <td>39.472500</td>\n",
              "      <td>38.777500</td>\n",
              "      <td>39.375000</td>\n",
              "      <td>39.302502</td>\n",
              "      <td>105474000.0</td>\n",
              "      <td>37.300640</td>\n",
              "    </tr>\n",
              "    <tr>\n",
              "      <th>2017-08-22</th>\n",
              "      <td>40.000000</td>\n",
              "      <td>39.505001</td>\n",
              "      <td>39.557499</td>\n",
              "      <td>39.945000</td>\n",
              "      <td>86418400.0</td>\n",
              "      <td>37.910412</td>\n",
              "    </tr>\n",
              "    <tr>\n",
              "      <th>2017-08-23</th>\n",
              "      <td>40.117500</td>\n",
              "      <td>39.720001</td>\n",
              "      <td>39.767502</td>\n",
              "      <td>39.994999</td>\n",
              "      <td>77596400.0</td>\n",
              "      <td>37.957867</td>\n",
              "    </tr>\n",
              "    <tr>\n",
              "      <th>2017-08-24</th>\n",
              "      <td>40.185001</td>\n",
              "      <td>39.637501</td>\n",
              "      <td>40.107498</td>\n",
              "      <td>39.817501</td>\n",
              "      <td>79275600.0</td>\n",
              "      <td>37.789410</td>\n",
              "    </tr>\n",
              "    <tr>\n",
              "      <th>...</th>\n",
              "      <td>...</td>\n",
              "      <td>...</td>\n",
              "      <td>...</td>\n",
              "      <td>...</td>\n",
              "      <td>...</td>\n",
              "      <td>...</td>\n",
              "    </tr>\n",
              "    <tr>\n",
              "      <th>2022-08-10</th>\n",
              "      <td>169.339996</td>\n",
              "      <td>166.899994</td>\n",
              "      <td>167.679993</td>\n",
              "      <td>169.240005</td>\n",
              "      <td>70170500.0</td>\n",
              "      <td>169.240005</td>\n",
              "    </tr>\n",
              "    <tr>\n",
              "      <th>2022-08-11</th>\n",
              "      <td>170.990005</td>\n",
              "      <td>168.190002</td>\n",
              "      <td>170.059998</td>\n",
              "      <td>168.490005</td>\n",
              "      <td>57149200.0</td>\n",
              "      <td>168.490005</td>\n",
              "    </tr>\n",
              "    <tr>\n",
              "      <th>2022-08-12</th>\n",
              "      <td>172.169998</td>\n",
              "      <td>169.399994</td>\n",
              "      <td>169.820007</td>\n",
              "      <td>172.100006</td>\n",
              "      <td>67946400.0</td>\n",
              "      <td>172.100006</td>\n",
              "    </tr>\n",
              "    <tr>\n",
              "      <th>2022-08-15</th>\n",
              "      <td>173.389999</td>\n",
              "      <td>171.350006</td>\n",
              "      <td>171.520004</td>\n",
              "      <td>173.190002</td>\n",
              "      <td>54091700.0</td>\n",
              "      <td>173.190002</td>\n",
              "    </tr>\n",
              "    <tr>\n",
              "      <th>2022-08-16</th>\n",
              "      <td>173.710007</td>\n",
              "      <td>171.660004</td>\n",
              "      <td>172.779999</td>\n",
              "      <td>173.029999</td>\n",
              "      <td>56180100.0</td>\n",
              "      <td>173.029999</td>\n",
              "    </tr>\n",
              "  </tbody>\n",
              "</table>\n",
              "<p>1257 rows × 6 columns</p>\n",
              "</div>\n",
              "      <button class=\"colab-df-convert\" onclick=\"convertToInteractive('df-565c2e22-49c9-430b-98b0-f3a81765666e')\"\n",
              "              title=\"Convert this dataframe to an interactive table.\"\n",
              "              style=\"display:none;\">\n",
              "        \n",
              "  <svg xmlns=\"http://www.w3.org/2000/svg\" height=\"24px\"viewBox=\"0 0 24 24\"\n",
              "       width=\"24px\">\n",
              "    <path d=\"M0 0h24v24H0V0z\" fill=\"none\"/>\n",
              "    <path d=\"M18.56 5.44l.94 2.06.94-2.06 2.06-.94-2.06-.94-.94-2.06-.94 2.06-2.06.94zm-11 1L8.5 8.5l.94-2.06 2.06-.94-2.06-.94L8.5 2.5l-.94 2.06-2.06.94zm10 10l.94 2.06.94-2.06 2.06-.94-2.06-.94-.94-2.06-.94 2.06-2.06.94z\"/><path d=\"M17.41 7.96l-1.37-1.37c-.4-.4-.92-.59-1.43-.59-.52 0-1.04.2-1.43.59L10.3 9.45l-7.72 7.72c-.78.78-.78 2.05 0 2.83L4 21.41c.39.39.9.59 1.41.59.51 0 1.02-.2 1.41-.59l7.78-7.78 2.81-2.81c.8-.78.8-2.07 0-2.86zM5.41 20L4 18.59l7.72-7.72 1.47 1.35L5.41 20z\"/>\n",
              "  </svg>\n",
              "      </button>\n",
              "      \n",
              "  <style>\n",
              "    .colab-df-container {\n",
              "      display:flex;\n",
              "      flex-wrap:wrap;\n",
              "      gap: 12px;\n",
              "    }\n",
              "\n",
              "    .colab-df-convert {\n",
              "      background-color: #E8F0FE;\n",
              "      border: none;\n",
              "      border-radius: 50%;\n",
              "      cursor: pointer;\n",
              "      display: none;\n",
              "      fill: #1967D2;\n",
              "      height: 32px;\n",
              "      padding: 0 0 0 0;\n",
              "      width: 32px;\n",
              "    }\n",
              "\n",
              "    .colab-df-convert:hover {\n",
              "      background-color: #E2EBFA;\n",
              "      box-shadow: 0px 1px 2px rgba(60, 64, 67, 0.3), 0px 1px 3px 1px rgba(60, 64, 67, 0.15);\n",
              "      fill: #174EA6;\n",
              "    }\n",
              "\n",
              "    [theme=dark] .colab-df-convert {\n",
              "      background-color: #3B4455;\n",
              "      fill: #D2E3FC;\n",
              "    }\n",
              "\n",
              "    [theme=dark] .colab-df-convert:hover {\n",
              "      background-color: #434B5C;\n",
              "      box-shadow: 0px 1px 3px 1px rgba(0, 0, 0, 0.15);\n",
              "      filter: drop-shadow(0px 1px 2px rgba(0, 0, 0, 0.3));\n",
              "      fill: #FFFFFF;\n",
              "    }\n",
              "  </style>\n",
              "\n",
              "      <script>\n",
              "        const buttonEl =\n",
              "          document.querySelector('#df-565c2e22-49c9-430b-98b0-f3a81765666e button.colab-df-convert');\n",
              "        buttonEl.style.display =\n",
              "          google.colab.kernel.accessAllowed ? 'block' : 'none';\n",
              "\n",
              "        async function convertToInteractive(key) {\n",
              "          const element = document.querySelector('#df-565c2e22-49c9-430b-98b0-f3a81765666e');\n",
              "          const dataTable =\n",
              "            await google.colab.kernel.invokeFunction('convertToInteractive',\n",
              "                                                     [key], {});\n",
              "          if (!dataTable) return;\n",
              "\n",
              "          const docLinkHtml = 'Like what you see? Visit the ' +\n",
              "            '<a target=\"_blank\" href=https://colab.research.google.com/notebooks/data_table.ipynb>data table notebook</a>'\n",
              "            + ' to learn more about interactive tables.';\n",
              "          element.innerHTML = '';\n",
              "          dataTable['output_type'] = 'display_data';\n",
              "          await google.colab.output.renderOutput(dataTable, element);\n",
              "          const docLink = document.createElement('div');\n",
              "          docLink.innerHTML = docLinkHtml;\n",
              "          element.appendChild(docLink);\n",
              "        }\n",
              "      </script>\n",
              "    </div>\n",
              "  </div>\n",
              "  "
            ]
          },
          "metadata": {},
          "execution_count": 2
        }
      ]
    },
    {
      "cell_type": "code",
      "source": [
        "pip install --upgrade pandas-datareader"
      ],
      "metadata": {
        "colab": {
          "base_uri": "https://localhost:8080/"
        },
        "id": "JiUcAsGZ4eqH",
        "outputId": "bdea2b5d-dfd8-49ec-c377-b694f9ff6feb"
      },
      "execution_count": null,
      "outputs": [
        {
          "output_type": "stream",
          "name": "stdout",
          "text": [
            "Looking in indexes: https://pypi.org/simple, https://us-python.pkg.dev/colab-wheels/public/simple/\n",
            "Requirement already satisfied: pandas-datareader in /usr/local/lib/python3.7/dist-packages (0.10.0)\n",
            "Requirement already satisfied: pandas>=0.23 in /usr/local/lib/python3.7/dist-packages (from pandas-datareader) (1.3.5)\n",
            "Requirement already satisfied: lxml in /usr/local/lib/python3.7/dist-packages (from pandas-datareader) (4.9.1)\n",
            "Requirement already satisfied: requests>=2.19.0 in /usr/local/lib/python3.7/dist-packages (from pandas-datareader) (2.23.0)\n",
            "Requirement already satisfied: python-dateutil>=2.7.3 in /usr/local/lib/python3.7/dist-packages (from pandas>=0.23->pandas-datareader) (2.8.2)\n",
            "Requirement already satisfied: numpy>=1.17.3 in /usr/local/lib/python3.7/dist-packages (from pandas>=0.23->pandas-datareader) (1.21.6)\n",
            "Requirement already satisfied: pytz>=2017.3 in /usr/local/lib/python3.7/dist-packages (from pandas>=0.23->pandas-datareader) (2022.1)\n",
            "Requirement already satisfied: six>=1.5 in /usr/local/lib/python3.7/dist-packages (from python-dateutil>=2.7.3->pandas>=0.23->pandas-datareader) (1.15.0)\n",
            "Requirement already satisfied: chardet<4,>=3.0.2 in /usr/local/lib/python3.7/dist-packages (from requests>=2.19.0->pandas-datareader) (3.0.4)\n",
            "Requirement already satisfied: idna<3,>=2.5 in /usr/local/lib/python3.7/dist-packages (from requests>=2.19.0->pandas-datareader) (2.10)\n",
            "Requirement already satisfied: certifi>=2017.4.17 in /usr/local/lib/python3.7/dist-packages (from requests>=2.19.0->pandas-datareader) (2022.6.15)\n",
            "Requirement already satisfied: urllib3!=1.25.0,!=1.25.1,<1.26,>=1.21.1 in /usr/local/lib/python3.7/dist-packages (from requests>=2.19.0->pandas-datareader) (1.24.3)\n"
          ]
        }
      ]
    },
    {
      "cell_type": "code",
      "source": [
        "df.head()"
      ],
      "metadata": {
        "colab": {
          "base_uri": "https://localhost:8080/",
          "height": 214
        },
        "id": "A9PfJQyf4wGN",
        "outputId": "1f14d569-b37d-4f7f-d20f-efdfe8fced0e"
      },
      "execution_count": null,
      "outputs": [
        {
          "output_type": "execute_result",
          "data": {
            "text/plain": [
              "                 High        Low       Open      Close       Volume  Adj Close\n",
              "Date                                                                          \n",
              "2017-08-18  39.875000  39.180000  39.465000  39.375000  109712400.0  37.369446\n",
              "2017-08-21  39.472500  38.777500  39.375000  39.302502  105474000.0  37.300640\n",
              "2017-08-22  40.000000  39.505001  39.557499  39.945000   86418400.0  37.910412\n",
              "2017-08-23  40.117500  39.720001  39.767502  39.994999   77596400.0  37.957867\n",
              "2017-08-24  40.185001  39.637501  40.107498  39.817501   79275600.0  37.789410"
            ],
            "text/html": [
              "\n",
              "  <div id=\"df-2bf15235-57e2-4dd5-872f-68373893fd80\">\n",
              "    <div class=\"colab-df-container\">\n",
              "      <div>\n",
              "<style scoped>\n",
              "    .dataframe tbody tr th:only-of-type {\n",
              "        vertical-align: middle;\n",
              "    }\n",
              "\n",
              "    .dataframe tbody tr th {\n",
              "        vertical-align: top;\n",
              "    }\n",
              "\n",
              "    .dataframe thead th {\n",
              "        text-align: right;\n",
              "    }\n",
              "</style>\n",
              "<table border=\"1\" class=\"dataframe\">\n",
              "  <thead>\n",
              "    <tr style=\"text-align: right;\">\n",
              "      <th></th>\n",
              "      <th>High</th>\n",
              "      <th>Low</th>\n",
              "      <th>Open</th>\n",
              "      <th>Close</th>\n",
              "      <th>Volume</th>\n",
              "      <th>Adj Close</th>\n",
              "    </tr>\n",
              "    <tr>\n",
              "      <th>Date</th>\n",
              "      <th></th>\n",
              "      <th></th>\n",
              "      <th></th>\n",
              "      <th></th>\n",
              "      <th></th>\n",
              "      <th></th>\n",
              "    </tr>\n",
              "  </thead>\n",
              "  <tbody>\n",
              "    <tr>\n",
              "      <th>2017-08-18</th>\n",
              "      <td>39.875000</td>\n",
              "      <td>39.180000</td>\n",
              "      <td>39.465000</td>\n",
              "      <td>39.375000</td>\n",
              "      <td>109712400.0</td>\n",
              "      <td>37.369446</td>\n",
              "    </tr>\n",
              "    <tr>\n",
              "      <th>2017-08-21</th>\n",
              "      <td>39.472500</td>\n",
              "      <td>38.777500</td>\n",
              "      <td>39.375000</td>\n",
              "      <td>39.302502</td>\n",
              "      <td>105474000.0</td>\n",
              "      <td>37.300640</td>\n",
              "    </tr>\n",
              "    <tr>\n",
              "      <th>2017-08-22</th>\n",
              "      <td>40.000000</td>\n",
              "      <td>39.505001</td>\n",
              "      <td>39.557499</td>\n",
              "      <td>39.945000</td>\n",
              "      <td>86418400.0</td>\n",
              "      <td>37.910412</td>\n",
              "    </tr>\n",
              "    <tr>\n",
              "      <th>2017-08-23</th>\n",
              "      <td>40.117500</td>\n",
              "      <td>39.720001</td>\n",
              "      <td>39.767502</td>\n",
              "      <td>39.994999</td>\n",
              "      <td>77596400.0</td>\n",
              "      <td>37.957867</td>\n",
              "    </tr>\n",
              "    <tr>\n",
              "      <th>2017-08-24</th>\n",
              "      <td>40.185001</td>\n",
              "      <td>39.637501</td>\n",
              "      <td>40.107498</td>\n",
              "      <td>39.817501</td>\n",
              "      <td>79275600.0</td>\n",
              "      <td>37.789410</td>\n",
              "    </tr>\n",
              "  </tbody>\n",
              "</table>\n",
              "</div>\n",
              "      <button class=\"colab-df-convert\" onclick=\"convertToInteractive('df-2bf15235-57e2-4dd5-872f-68373893fd80')\"\n",
              "              title=\"Convert this dataframe to an interactive table.\"\n",
              "              style=\"display:none;\">\n",
              "        \n",
              "  <svg xmlns=\"http://www.w3.org/2000/svg\" height=\"24px\"viewBox=\"0 0 24 24\"\n",
              "       width=\"24px\">\n",
              "    <path d=\"M0 0h24v24H0V0z\" fill=\"none\"/>\n",
              "    <path d=\"M18.56 5.44l.94 2.06.94-2.06 2.06-.94-2.06-.94-.94-2.06-.94 2.06-2.06.94zm-11 1L8.5 8.5l.94-2.06 2.06-.94-2.06-.94L8.5 2.5l-.94 2.06-2.06.94zm10 10l.94 2.06.94-2.06 2.06-.94-2.06-.94-.94-2.06-.94 2.06-2.06.94z\"/><path d=\"M17.41 7.96l-1.37-1.37c-.4-.4-.92-.59-1.43-.59-.52 0-1.04.2-1.43.59L10.3 9.45l-7.72 7.72c-.78.78-.78 2.05 0 2.83L4 21.41c.39.39.9.59 1.41.59.51 0 1.02-.2 1.41-.59l7.78-7.78 2.81-2.81c.8-.78.8-2.07 0-2.86zM5.41 20L4 18.59l7.72-7.72 1.47 1.35L5.41 20z\"/>\n",
              "  </svg>\n",
              "      </button>\n",
              "      \n",
              "  <style>\n",
              "    .colab-df-container {\n",
              "      display:flex;\n",
              "      flex-wrap:wrap;\n",
              "      gap: 12px;\n",
              "    }\n",
              "\n",
              "    .colab-df-convert {\n",
              "      background-color: #E8F0FE;\n",
              "      border: none;\n",
              "      border-radius: 50%;\n",
              "      cursor: pointer;\n",
              "      display: none;\n",
              "      fill: #1967D2;\n",
              "      height: 32px;\n",
              "      padding: 0 0 0 0;\n",
              "      width: 32px;\n",
              "    }\n",
              "\n",
              "    .colab-df-convert:hover {\n",
              "      background-color: #E2EBFA;\n",
              "      box-shadow: 0px 1px 2px rgba(60, 64, 67, 0.3), 0px 1px 3px 1px rgba(60, 64, 67, 0.15);\n",
              "      fill: #174EA6;\n",
              "    }\n",
              "\n",
              "    [theme=dark] .colab-df-convert {\n",
              "      background-color: #3B4455;\n",
              "      fill: #D2E3FC;\n",
              "    }\n",
              "\n",
              "    [theme=dark] .colab-df-convert:hover {\n",
              "      background-color: #434B5C;\n",
              "      box-shadow: 0px 1px 3px 1px rgba(0, 0, 0, 0.15);\n",
              "      filter: drop-shadow(0px 1px 2px rgba(0, 0, 0, 0.3));\n",
              "      fill: #FFFFFF;\n",
              "    }\n",
              "  </style>\n",
              "\n",
              "      <script>\n",
              "        const buttonEl =\n",
              "          document.querySelector('#df-2bf15235-57e2-4dd5-872f-68373893fd80 button.colab-df-convert');\n",
              "        buttonEl.style.display =\n",
              "          google.colab.kernel.accessAllowed ? 'block' : 'none';\n",
              "\n",
              "        async function convertToInteractive(key) {\n",
              "          const element = document.querySelector('#df-2bf15235-57e2-4dd5-872f-68373893fd80');\n",
              "          const dataTable =\n",
              "            await google.colab.kernel.invokeFunction('convertToInteractive',\n",
              "                                                     [key], {});\n",
              "          if (!dataTable) return;\n",
              "\n",
              "          const docLinkHtml = 'Like what you see? Visit the ' +\n",
              "            '<a target=\"_blank\" href=https://colab.research.google.com/notebooks/data_table.ipynb>data table notebook</a>'\n",
              "            + ' to learn more about interactive tables.';\n",
              "          element.innerHTML = '';\n",
              "          dataTable['output_type'] = 'display_data';\n",
              "          await google.colab.output.renderOutput(dataTable, element);\n",
              "          const docLink = document.createElement('div');\n",
              "          docLink.innerHTML = docLinkHtml;\n",
              "          element.appendChild(docLink);\n",
              "        }\n",
              "      </script>\n",
              "    </div>\n",
              "  </div>\n",
              "  "
            ]
          },
          "metadata": {},
          "execution_count": 4
        }
      ]
    },
    {
      "cell_type": "code",
      "source": [
        "df.tail()"
      ],
      "metadata": {
        "colab": {
          "base_uri": "https://localhost:8080/",
          "height": 214
        },
        "id": "hegt7JeM3MLL",
        "outputId": "90cff2a7-2c7a-421a-ccef-04680764c863"
      },
      "execution_count": null,
      "outputs": [
        {
          "output_type": "execute_result",
          "data": {
            "text/plain": [
              "                  High         Low        Open       Close      Volume  \\\n",
              "Date                                                                     \n",
              "2022-08-10  169.339996  166.899994  167.679993  169.240005  70170500.0   \n",
              "2022-08-11  170.990005  168.190002  170.059998  168.490005  57149200.0   \n",
              "2022-08-12  172.169998  169.399994  169.820007  172.100006  67946400.0   \n",
              "2022-08-15  173.389999  171.350006  171.520004  173.190002  54091700.0   \n",
              "2022-08-16  173.710007  171.660004  172.779999  173.029999  56180100.0   \n",
              "\n",
              "             Adj Close  \n",
              "Date                    \n",
              "2022-08-10  169.240005  \n",
              "2022-08-11  168.490005  \n",
              "2022-08-12  172.100006  \n",
              "2022-08-15  173.190002  \n",
              "2022-08-16  173.029999  "
            ],
            "text/html": [
              "\n",
              "  <div id=\"df-2c1f6a3f-9ac9-4d54-bc8a-1754879fdcd5\">\n",
              "    <div class=\"colab-df-container\">\n",
              "      <div>\n",
              "<style scoped>\n",
              "    .dataframe tbody tr th:only-of-type {\n",
              "        vertical-align: middle;\n",
              "    }\n",
              "\n",
              "    .dataframe tbody tr th {\n",
              "        vertical-align: top;\n",
              "    }\n",
              "\n",
              "    .dataframe thead th {\n",
              "        text-align: right;\n",
              "    }\n",
              "</style>\n",
              "<table border=\"1\" class=\"dataframe\">\n",
              "  <thead>\n",
              "    <tr style=\"text-align: right;\">\n",
              "      <th></th>\n",
              "      <th>High</th>\n",
              "      <th>Low</th>\n",
              "      <th>Open</th>\n",
              "      <th>Close</th>\n",
              "      <th>Volume</th>\n",
              "      <th>Adj Close</th>\n",
              "    </tr>\n",
              "    <tr>\n",
              "      <th>Date</th>\n",
              "      <th></th>\n",
              "      <th></th>\n",
              "      <th></th>\n",
              "      <th></th>\n",
              "      <th></th>\n",
              "      <th></th>\n",
              "    </tr>\n",
              "  </thead>\n",
              "  <tbody>\n",
              "    <tr>\n",
              "      <th>2022-08-10</th>\n",
              "      <td>169.339996</td>\n",
              "      <td>166.899994</td>\n",
              "      <td>167.679993</td>\n",
              "      <td>169.240005</td>\n",
              "      <td>70170500.0</td>\n",
              "      <td>169.240005</td>\n",
              "    </tr>\n",
              "    <tr>\n",
              "      <th>2022-08-11</th>\n",
              "      <td>170.990005</td>\n",
              "      <td>168.190002</td>\n",
              "      <td>170.059998</td>\n",
              "      <td>168.490005</td>\n",
              "      <td>57149200.0</td>\n",
              "      <td>168.490005</td>\n",
              "    </tr>\n",
              "    <tr>\n",
              "      <th>2022-08-12</th>\n",
              "      <td>172.169998</td>\n",
              "      <td>169.399994</td>\n",
              "      <td>169.820007</td>\n",
              "      <td>172.100006</td>\n",
              "      <td>67946400.0</td>\n",
              "      <td>172.100006</td>\n",
              "    </tr>\n",
              "    <tr>\n",
              "      <th>2022-08-15</th>\n",
              "      <td>173.389999</td>\n",
              "      <td>171.350006</td>\n",
              "      <td>171.520004</td>\n",
              "      <td>173.190002</td>\n",
              "      <td>54091700.0</td>\n",
              "      <td>173.190002</td>\n",
              "    </tr>\n",
              "    <tr>\n",
              "      <th>2022-08-16</th>\n",
              "      <td>173.710007</td>\n",
              "      <td>171.660004</td>\n",
              "      <td>172.779999</td>\n",
              "      <td>173.029999</td>\n",
              "      <td>56180100.0</td>\n",
              "      <td>173.029999</td>\n",
              "    </tr>\n",
              "  </tbody>\n",
              "</table>\n",
              "</div>\n",
              "      <button class=\"colab-df-convert\" onclick=\"convertToInteractive('df-2c1f6a3f-9ac9-4d54-bc8a-1754879fdcd5')\"\n",
              "              title=\"Convert this dataframe to an interactive table.\"\n",
              "              style=\"display:none;\">\n",
              "        \n",
              "  <svg xmlns=\"http://www.w3.org/2000/svg\" height=\"24px\"viewBox=\"0 0 24 24\"\n",
              "       width=\"24px\">\n",
              "    <path d=\"M0 0h24v24H0V0z\" fill=\"none\"/>\n",
              "    <path d=\"M18.56 5.44l.94 2.06.94-2.06 2.06-.94-2.06-.94-.94-2.06-.94 2.06-2.06.94zm-11 1L8.5 8.5l.94-2.06 2.06-.94-2.06-.94L8.5 2.5l-.94 2.06-2.06.94zm10 10l.94 2.06.94-2.06 2.06-.94-2.06-.94-.94-2.06-.94 2.06-2.06.94z\"/><path d=\"M17.41 7.96l-1.37-1.37c-.4-.4-.92-.59-1.43-.59-.52 0-1.04.2-1.43.59L10.3 9.45l-7.72 7.72c-.78.78-.78 2.05 0 2.83L4 21.41c.39.39.9.59 1.41.59.51 0 1.02-.2 1.41-.59l7.78-7.78 2.81-2.81c.8-.78.8-2.07 0-2.86zM5.41 20L4 18.59l7.72-7.72 1.47 1.35L5.41 20z\"/>\n",
              "  </svg>\n",
              "      </button>\n",
              "      \n",
              "  <style>\n",
              "    .colab-df-container {\n",
              "      display:flex;\n",
              "      flex-wrap:wrap;\n",
              "      gap: 12px;\n",
              "    }\n",
              "\n",
              "    .colab-df-convert {\n",
              "      background-color: #E8F0FE;\n",
              "      border: none;\n",
              "      border-radius: 50%;\n",
              "      cursor: pointer;\n",
              "      display: none;\n",
              "      fill: #1967D2;\n",
              "      height: 32px;\n",
              "      padding: 0 0 0 0;\n",
              "      width: 32px;\n",
              "    }\n",
              "\n",
              "    .colab-df-convert:hover {\n",
              "      background-color: #E2EBFA;\n",
              "      box-shadow: 0px 1px 2px rgba(60, 64, 67, 0.3), 0px 1px 3px 1px rgba(60, 64, 67, 0.15);\n",
              "      fill: #174EA6;\n",
              "    }\n",
              "\n",
              "    [theme=dark] .colab-df-convert {\n",
              "      background-color: #3B4455;\n",
              "      fill: #D2E3FC;\n",
              "    }\n",
              "\n",
              "    [theme=dark] .colab-df-convert:hover {\n",
              "      background-color: #434B5C;\n",
              "      box-shadow: 0px 1px 3px 1px rgba(0, 0, 0, 0.15);\n",
              "      filter: drop-shadow(0px 1px 2px rgba(0, 0, 0, 0.3));\n",
              "      fill: #FFFFFF;\n",
              "    }\n",
              "  </style>\n",
              "\n",
              "      <script>\n",
              "        const buttonEl =\n",
              "          document.querySelector('#df-2c1f6a3f-9ac9-4d54-bc8a-1754879fdcd5 button.colab-df-convert');\n",
              "        buttonEl.style.display =\n",
              "          google.colab.kernel.accessAllowed ? 'block' : 'none';\n",
              "\n",
              "        async function convertToInteractive(key) {\n",
              "          const element = document.querySelector('#df-2c1f6a3f-9ac9-4d54-bc8a-1754879fdcd5');\n",
              "          const dataTable =\n",
              "            await google.colab.kernel.invokeFunction('convertToInteractive',\n",
              "                                                     [key], {});\n",
              "          if (!dataTable) return;\n",
              "\n",
              "          const docLinkHtml = 'Like what you see? Visit the ' +\n",
              "            '<a target=\"_blank\" href=https://colab.research.google.com/notebooks/data_table.ipynb>data table notebook</a>'\n",
              "            + ' to learn more about interactive tables.';\n",
              "          element.innerHTML = '';\n",
              "          dataTable['output_type'] = 'display_data';\n",
              "          await google.colab.output.renderOutput(dataTable, element);\n",
              "          const docLink = document.createElement('div');\n",
              "          docLink.innerHTML = docLinkHtml;\n",
              "          element.appendChild(docLink);\n",
              "        }\n",
              "      </script>\n",
              "    </div>\n",
              "  </div>\n",
              "  "
            ]
          },
          "metadata": {},
          "execution_count": 5
        }
      ]
    },
    {
      "cell_type": "code",
      "source": [
        "df1=df.reset_index()['Close']\n",
        "df1"
      ],
      "metadata": {
        "colab": {
          "base_uri": "https://localhost:8080/"
        },
        "id": "xdZYaUN6475j",
        "outputId": "3b1898f5-96d0-4769-9ae5-4c5638c7ea45"
      },
      "execution_count": null,
      "outputs": [
        {
          "output_type": "execute_result",
          "data": {
            "text/plain": [
              "0        39.375000\n",
              "1        39.302502\n",
              "2        39.945000\n",
              "3        39.994999\n",
              "4        39.817501\n",
              "           ...    \n",
              "1252    169.240005\n",
              "1253    168.490005\n",
              "1254    172.100006\n",
              "1255    173.190002\n",
              "1256    173.029999\n",
              "Name: Close, Length: 1257, dtype: float64"
            ]
          },
          "metadata": {},
          "execution_count": 6
        }
      ]
    },
    {
      "cell_type": "code",
      "source": [
        "import matplotlib.pyplot as plt"
      ],
      "metadata": {
        "id": "qqJn0vaW5yKz"
      },
      "execution_count": null,
      "outputs": []
    },
    {
      "cell_type": "code",
      "source": [
        "plt.plot(df1)"
      ],
      "metadata": {
        "colab": {
          "base_uri": "https://localhost:8080/",
          "height": 282
        },
        "id": "clHsPVve6K5D",
        "outputId": "bc31f157-184a-4ccf-80e5-686549a2619a"
      },
      "execution_count": null,
      "outputs": [
        {
          "output_type": "execute_result",
          "data": {
            "text/plain": [
              "[<matplotlib.lines.Line2D at 0x7f2604af7350>]"
            ]
          },
          "metadata": {},
          "execution_count": 8
        },
        {
          "output_type": "display_data",
          "data": {
            "text/plain": [
              "<Figure size 432x288 with 1 Axes>"
            ],
            "image/png": "[encoded data removed]"
          },
          "metadata": {
            "needs_background": "light"
          }
        }
      ]
    },
    {
      "cell_type": "code",
      "source": [
        "import numpy as np\n",
        "from sklearn.preprocessing import MinMaxScaler\n",
        "Scaler=MinMaxScaler(feature_range=(0,1))\n",
        "df1=Scaler.fit_transform(np.array(df1).reshape(-1,1))\n",
        "df1"
      ],
      "metadata": {
        "colab": {
          "base_uri": "https://localhost:8080/"
        },
        "id": "e4WoIE6t6Nvb",
        "outputId": "d8ac6813-bb1c-4474-f4ae-b3f51940a610"
      },
      "execution_count": null,
      "outputs": [
        {
          "output_type": "execute_result",
          "data": {
            "text/plain": [
              "array([[0.02613297],\n",
              "       [0.02563797],\n",
              "       [0.03002475],\n",
              "       ...,\n",
              "       [0.93233771],\n",
              "       [0.93977986],\n",
              "       [0.9386874 ]])"
            ]
          },
          "metadata": {},
          "execution_count": 9
        }
      ]
    },
    {
      "cell_type": "code",
      "source": [
        "#train test split\n",
        "training_size=int(len(df1)*0.65)\n",
        "training_size"
      ],
      "metadata": {
        "colab": {
          "base_uri": "https://localhost:8080/"
        },
        "id": "uPm_S3hR6_ME",
        "outputId": "bcae946d-e36b-4c07-feae-cc1db2a0627a"
      },
      "execution_count": null,
      "outputs": [
        {
          "output_type": "execute_result",
          "data": {
            "text/plain": [
              "817"
            ]
          },
          "metadata": {},
          "execution_count": 10
        }
      ]
    },
    {
      "cell_type": "code",
      "source": [
        "len(df1)"
      ],
      "metadata": {
        "colab": {
          "base_uri": "https://localhost:8080/"
        },
        "id": "9r-KU9-f8JpD",
        "outputId": "9991881c-7454-4587-8aa5-26cebf4c0687"
      },
      "execution_count": null,
      "outputs": [
        {
          "output_type": "execute_result",
          "data": {
            "text/plain": [
              "1257"
            ]
          },
          "metadata": {},
          "execution_count": 11
        }
      ]
    },
    {
      "cell_type": "code",
      "source": [
        "testing_size=len(df1)-training_size\n",
        "testing_size"
      ],
      "metadata": {
        "colab": {
          "base_uri": "https://localhost:8080/"
        },
        "id": "OOJ-MB1P8T5D",
        "outputId": "2053df31-a6dd-4cdb-bc0b-d44e16b4c453"
      },
      "execution_count": null,
      "outputs": [
        {
          "output_type": "execute_result",
          "data": {
            "text/plain": [
              "440"
            ]
          },
          "metadata": {},
          "execution_count": 15
        }
      ]
    },
    {
      "cell_type": "code",
      "source": [
        "training_data, testing_data = df1[0:training_size,:], df1[training_size:len(df1),:1]\n",
        "testing_data.shape"
      ],
      "metadata": {
        "colab": {
          "base_uri": "https://localhost:8080/"
        },
        "id": "F1ccBuU78ir6",
        "outputId": "0c860836-7f0a-41fc-b831-467a552bbc32"
      },
      "execution_count": null,
      "outputs": [
        {
          "output_type": "execute_result",
          "data": {
            "text/plain": [
              "(440, 1)"
            ]
          },
          "metadata": {},
          "execution_count": 16
        }
      ]
    },
    {
      "cell_type": "code",
      "source": [
        "training_data.shape"
      ],
      "metadata": {
        "colab": {
          "base_uri": "https://localhost:8080/"
        },
        "id": "ZonUk5Jy9SoT",
        "outputId": "96e8fa00-122d-4a84-e323-d5f7d1d50a19"
      },
      "execution_count": null,
      "outputs": [
        {
          "output_type": "execute_result",
          "data": {
            "text/plain": [
              "(817, 1)"
            ]
          },
          "metadata": {},
          "execution_count": 17
        }
      ]
    },
    {
      "cell_type": "code",
      "source": [
        "import numpy\n",
        "# convert an array of values into a dataset matrix\n",
        "def create_dataset(dataset, time_step=1):\n",
        "\tdataX, dataY = [], []\n",
        "\tfor i in range(len(dataset)-time_step-1):\n",
        "\t\ta = dataset[i:(i+time_step), 0]   ###i=0, 0,1,2,3-----99   100 \n",
        "\t\tdataX.append(a)\n",
        "\t\tdataY.append(dataset[i + time_step, 0])\n",
        "\treturn numpy.array(dataX), numpy.array(dataY)"
      ],
      "metadata": {
        "id": "UOOi1PoS9b77"
      },
      "execution_count": null,
      "outputs": []
    },
    {
      "cell_type": "code",
      "source": [
        "# reshape into X=t,t+1,t+2,t+3 and Y=t+4\n",
        "time_step=100\n",
        "x_train,y_train=create_dataset(training_data,time_step)\n",
        "x_test,y_test=create_dataset(testing_data,time_step)"
      ],
      "metadata": {
        "id": "fv4abRXS-kIT"
      },
      "execution_count": null,
      "outputs": []
    },
    {
      "cell_type": "code",
      "source": [
        "from keras.models import Sequential\n",
        "from keras.layers import Dense,LSTM"
      ],
      "metadata": {
        "id": "HFVpAmxMCY_k"
      },
      "execution_count": null,
      "outputs": []
    },
    {
      "cell_type": "code",
      "source": [
        "model = Sequential()\n",
        "model.add(LSTM(50, return_sequences=True, input_shape=(100, 1)))\n",
        "model.add(LSTM(50, return_sequences=True))\n",
        "model.add(LSTM(50))\n",
        "model.add(Dense(1))\n",
        "model.compile(loss=\"mean_squared_error\", optimizer=\"adam\" )\n",
        "model.summary()"
      ],
      "metadata": {
        "colab": {
          "base_uri": "https://localhost:8080/"
        },
        "id": "xBrBicrF_W20",
        "outputId": "34cd5369-cb12-4c37-8317-c27a57fc0298"
      },
      "execution_count": null,
      "outputs": [
        {
          "output_type": "stream",
          "name": "stdout",
          "text": [
            "Model: \"sequential_1\"\n",
            "_________________________________________________________________\n",
            " Layer (type)                Output Shape              Param #   \n",
            "=================================================================\n",
            " lstm (LSTM)                 (None, 100, 50)           10400     \n",
            "                                                                 \n",
            " lstm_1 (LSTM)               (None, 100, 50)           20200     \n",
            "                                                                 \n",
            " lstm_2 (LSTM)               (None, 50)                20200     \n",
            "                                                                 \n",
            " dense (Dense)               (None, 1)                 51        \n",
            "                                                                 \n",
            "=================================================================\n",
            "Total params: 50,851\n",
            "Trainable params: 50,851\n",
            "Non-trainable params: 0\n",
            "_________________________________________________________________\n"
          ]
        }
      ]
    },
    {
      "cell_type": "code",
      "source": [
        "model.fit(x_train,y_train,validation_data = (x_test,y_test),epochs=100,batch_size=64,verbose=1)\n"
      ],
      "metadata": {
        "colab": {
          "base_uri": "https://localhost:8080/"
        },
        "id": "1HukuE5ZCsCZ",
        "outputId": "0d0f5c37-2c25-4185-8f6b-b2655bc635af"
      },
      "execution_count": null,
      "outputs": [
        {
          "output_type": "stream",
          "name": "stdout",
          "text": [
            "Epoch 1/100\n",
            "12/12 [==============================] - 14s 297ms/step - loss: 0.0202 - val_loss: 0.0613\n",
            "Epoch 2/100\n",
            "12/12 [==============================] - 2s 177ms/step - loss: 0.0041 - val_loss: 0.0144\n",
            "Epoch 3/100\n",
            "12/12 [==============================] - 2s 178ms/step - loss: 0.0017 - val_loss: 0.0038\n",
            "Epoch 4/100\n",
            "12/12 [==============================] - 2s 179ms/step - loss: 0.0012 - val_loss: 0.0068\n",
            "Epoch 5/100\n",
            "12/12 [==============================] - 2s 179ms/step - loss: 9.7478e-04 - val_loss: 0.0056\n",
            "Epoch 6/100\n",
            "12/12 [==============================] - 2s 177ms/step - loss: 9.2664e-04 - val_loss: 0.0030\n",
            "Epoch 7/100\n",
            "12/12 [==============================] - 2s 175ms/step - loss: 8.2688e-04 - val_loss: 0.0029\n",
            "Epoch 8/100\n",
            "12/12 [==============================] - 2s 180ms/step - loss: 7.6813e-04 - val_loss: 0.0042\n",
            "Epoch 9/100\n",
            "12/12 [==============================] - 2s 192ms/step - loss: 7.4739e-04 - val_loss: 0.0049\n",
            "Epoch 10/100\n",
            "12/12 [==============================] - 2s 185ms/step - loss: 7.2332e-04 - val_loss: 0.0039\n",
            "Epoch 11/100\n",
            "12/12 [==============================] - 2s 178ms/step - loss: 7.3468e-04 - val_loss: 0.0049\n",
            "Epoch 12/100\n",
            "12/12 [==============================] - 2s 177ms/step - loss: 7.3267e-04 - val_loss: 0.0047\n",
            "Epoch 13/100\n",
            "12/12 [==============================] - 2s 177ms/step - loss: 6.6274e-04 - val_loss: 0.0062\n",
            "Epoch 14/100\n",
            "12/12 [==============================] - 2s 197ms/step - loss: 6.5332e-04 - val_loss: 0.0087\n",
            "Epoch 15/100\n",
            "12/12 [==============================] - 3s 236ms/step - loss: 6.7580e-04 - val_loss: 0.0084\n",
            "Epoch 16/100\n",
            "12/12 [==============================] - 3s 213ms/step - loss: 6.4512e-04 - val_loss: 0.0095\n",
            "Epoch 17/100\n",
            "12/12 [==============================] - 3s 243ms/step - loss: 7.1832e-04 - val_loss: 0.0089\n",
            "Epoch 18/100\n",
            "12/12 [==============================] - 3s 246ms/step - loss: 6.1876e-04 - val_loss: 0.0077\n",
            "Epoch 19/100\n",
            "12/12 [==============================] - 3s 255ms/step - loss: 6.7483e-04 - val_loss: 0.0074\n",
            "Epoch 20/100\n",
            "12/12 [==============================] - 3s 288ms/step - loss: 6.2414e-04 - val_loss: 0.0024\n",
            "Epoch 21/100\n",
            "12/12 [==============================] - 2s 177ms/step - loss: 6.0512e-04 - val_loss: 0.0068\n",
            "Epoch 22/100\n",
            "12/12 [==============================] - 2s 177ms/step - loss: 6.0276e-04 - val_loss: 0.0050\n",
            "Epoch 23/100\n",
            "12/12 [==============================] - 2s 176ms/step - loss: 5.1788e-04 - val_loss: 0.0055\n",
            "Epoch 24/100\n",
            "12/12 [==============================] - 2s 175ms/step - loss: 5.0636e-04 - val_loss: 0.0062\n",
            "Epoch 25/100\n",
            "12/12 [==============================] - 2s 178ms/step - loss: 7.8935e-04 - val_loss: 0.0086\n",
            "Epoch 26/100\n",
            "12/12 [==============================] - 2s 178ms/step - loss: 5.6205e-04 - val_loss: 0.0027\n",
            "Epoch 27/100\n",
            "12/12 [==============================] - 2s 175ms/step - loss: 5.0775e-04 - val_loss: 0.0033\n",
            "Epoch 28/100\n",
            "12/12 [==============================] - 2s 174ms/step - loss: 4.8540e-04 - val_loss: 0.0022\n",
            "Epoch 29/100\n",
            "12/12 [==============================] - 2s 173ms/step - loss: 4.5607e-04 - val_loss: 0.0058\n",
            "Epoch 30/100\n",
            "12/12 [==============================] - 4s 313ms/step - loss: 4.6311e-04 - val_loss: 0.0034\n",
            "Epoch 31/100\n",
            "12/12 [==============================] - 2s 176ms/step - loss: 4.3913e-04 - val_loss: 0.0020\n",
            "Epoch 32/100\n",
            "12/12 [==============================] - 2s 172ms/step - loss: 4.5777e-04 - val_loss: 0.0018\n",
            "Epoch 33/100\n",
            "12/12 [==============================] - 2s 174ms/step - loss: 4.3144e-04 - val_loss: 0.0015\n",
            "Epoch 34/100\n",
            "12/12 [==============================] - 2s 174ms/step - loss: 4.7411e-04 - val_loss: 0.0015\n",
            "Epoch 35/100\n",
            "12/12 [==============================] - 3s 230ms/step - loss: 4.5856e-04 - val_loss: 0.0037\n",
            "Epoch 36/100\n",
            "12/12 [==============================] - 2s 177ms/step - loss: 4.3430e-04 - val_loss: 0.0042\n",
            "Epoch 37/100\n",
            "12/12 [==============================] - 2s 181ms/step - loss: 4.1909e-04 - val_loss: 0.0031\n",
            "Epoch 38/100\n",
            "12/12 [==============================] - 2s 185ms/step - loss: 3.9336e-04 - val_loss: 0.0023\n",
            "Epoch 39/100\n",
            "12/12 [==============================] - 2s 178ms/step - loss: 4.1239e-04 - val_loss: 0.0062\n",
            "Epoch 40/100\n",
            "12/12 [==============================] - 2s 185ms/step - loss: 4.0307e-04 - val_loss: 0.0024\n",
            "Epoch 41/100\n",
            "12/12 [==============================] - 2s 178ms/step - loss: 4.1781e-04 - val_loss: 0.0021\n",
            "Epoch 42/100\n",
            "12/12 [==============================] - 2s 180ms/step - loss: 4.4036e-04 - val_loss: 0.0020\n",
            "Epoch 43/100\n",
            "12/12 [==============================] - 2s 181ms/step - loss: 4.4259e-04 - val_loss: 0.0076\n",
            "Epoch 44/100\n",
            "12/12 [==============================] - 2s 180ms/step - loss: 4.8601e-04 - val_loss: 0.0041\n",
            "Epoch 45/100\n",
            "12/12 [==============================] - 2s 181ms/step - loss: 4.1020e-04 - val_loss: 0.0053\n",
            "Epoch 46/100\n",
            "12/12 [==============================] - 2s 180ms/step - loss: 3.8163e-04 - val_loss: 0.0024\n",
            "Epoch 47/100\n",
            "12/12 [==============================] - 2s 176ms/step - loss: 3.6023e-04 - val_loss: 0.0030\n",
            "Epoch 48/100\n",
            "12/12 [==============================] - 2s 177ms/step - loss: 3.5299e-04 - val_loss: 0.0052\n",
            "Epoch 49/100\n",
            "12/12 [==============================] - 2s 177ms/step - loss: 3.9295e-04 - val_loss: 0.0056\n",
            "Epoch 50/100\n",
            "12/12 [==============================] - 2s 176ms/step - loss: 3.5363e-04 - val_loss: 0.0018\n",
            "Epoch 51/100\n",
            "12/12 [==============================] - 2s 176ms/step - loss: 3.6632e-04 - val_loss: 0.0040\n",
            "Epoch 52/100\n",
            "12/12 [==============================] - 2s 180ms/step - loss: 3.7467e-04 - val_loss: 0.0032\n",
            "Epoch 53/100\n",
            "12/12 [==============================] - 2s 178ms/step - loss: 4.3418e-04 - val_loss: 0.0019\n",
            "Epoch 54/100\n",
            "12/12 [==============================] - 2s 180ms/step - loss: 3.4228e-04 - val_loss: 0.0024\n",
            "Epoch 55/100\n",
            "12/12 [==============================] - 2s 181ms/step - loss: 3.3691e-04 - val_loss: 0.0021\n",
            "Epoch 56/100\n",
            "12/12 [==============================] - 2s 181ms/step - loss: 4.1639e-04 - val_loss: 0.0034\n",
            "Epoch 57/100\n",
            "12/12 [==============================] - 2s 179ms/step - loss: 4.2412e-04 - val_loss: 0.0027\n",
            "Epoch 58/100\n",
            "12/12 [==============================] - 3s 231ms/step - loss: 3.5466e-04 - val_loss: 0.0016\n",
            "Epoch 59/100\n",
            "12/12 [==============================] - 3s 227ms/step - loss: 4.2699e-04 - val_loss: 0.0012\n",
            "Epoch 60/100\n",
            "12/12 [==============================] - 2s 176ms/step - loss: 3.3928e-04 - val_loss: 0.0034\n",
            "Epoch 61/100\n",
            "12/12 [==============================] - 2s 173ms/step - loss: 3.1325e-04 - val_loss: 0.0035\n",
            "Epoch 62/100\n",
            "12/12 [==============================] - 2s 172ms/step - loss: 3.2954e-04 - val_loss: 0.0054\n",
            "Epoch 63/100\n",
            "12/12 [==============================] - 2s 174ms/step - loss: 3.7136e-04 - val_loss: 0.0020\n",
            "Epoch 64/100\n",
            "12/12 [==============================] - 2s 171ms/step - loss: 3.0490e-04 - val_loss: 0.0020\n",
            "Epoch 65/100\n",
            "12/12 [==============================] - 3s 249ms/step - loss: 3.1197e-04 - val_loss: 0.0026\n",
            "Epoch 66/100\n",
            "12/12 [==============================] - 2s 176ms/step - loss: 2.9900e-04 - val_loss: 0.0020\n",
            "Epoch 67/100\n",
            "12/12 [==============================] - 2s 174ms/step - loss: 3.0001e-04 - val_loss: 0.0017\n",
            "Epoch 68/100\n",
            "12/12 [==============================] - 2s 171ms/step - loss: 3.2920e-04 - val_loss: 0.0022\n",
            "Epoch 69/100\n",
            "12/12 [==============================] - 2s 172ms/step - loss: 3.0058e-04 - val_loss: 0.0041\n",
            "Epoch 70/100\n",
            "12/12 [==============================] - 2s 173ms/step - loss: 3.1479e-04 - val_loss: 0.0028\n",
            "Epoch 71/100\n",
            "12/12 [==============================] - 2s 174ms/step - loss: 2.8000e-04 - val_loss: 0.0047\n",
            "Epoch 72/100\n",
            "12/12 [==============================] - 2s 171ms/step - loss: 3.3545e-04 - val_loss: 0.0018\n",
            "Epoch 73/100\n",
            "12/12 [==============================] - 2s 172ms/step - loss: 2.9439e-04 - val_loss: 0.0017\n",
            "Epoch 74/100\n",
            "12/12 [==============================] - 2s 169ms/step - loss: 2.8671e-04 - val_loss: 0.0016\n",
            "Epoch 75/100\n",
            "12/12 [==============================] - 2s 170ms/step - loss: 3.1276e-04 - val_loss: 0.0029\n",
            "Epoch 76/100\n",
            "12/12 [==============================] - 2s 170ms/step - loss: 2.9888e-04 - val_loss: 0.0040\n",
            "Epoch 77/100\n",
            "12/12 [==============================] - 2s 170ms/step - loss: 2.9852e-04 - val_loss: 0.0025\n",
            "Epoch 78/100\n",
            "12/12 [==============================] - 2s 172ms/step - loss: 3.2172e-04 - val_loss: 0.0010\n",
            "Epoch 79/100\n",
            "12/12 [==============================] - 2s 170ms/step - loss: 2.8334e-04 - val_loss: 0.0013\n",
            "Epoch 80/100\n",
            "12/12 [==============================] - 2s 174ms/step - loss: 2.6387e-04 - val_loss: 0.0025\n",
            "Epoch 81/100\n",
            "12/12 [==============================] - 2s 172ms/step - loss: 2.6094e-04 - val_loss: 0.0025\n",
            "Epoch 82/100\n",
            "12/12 [==============================] - 2s 171ms/step - loss: 3.0232e-04 - val_loss: 0.0016\n",
            "Epoch 83/100\n",
            "12/12 [==============================] - 2s 172ms/step - loss: 4.0285e-04 - val_loss: 0.0026\n",
            "Epoch 84/100\n",
            "12/12 [==============================] - 2s 173ms/step - loss: 2.8857e-04 - val_loss: 0.0033\n",
            "Epoch 85/100\n",
            "12/12 [==============================] - 2s 173ms/step - loss: 2.7069e-04 - val_loss: 0.0029\n",
            "Epoch 86/100\n",
            "12/12 [==============================] - 2s 172ms/step - loss: 2.6534e-04 - val_loss: 0.0025\n",
            "Epoch 87/100\n",
            "12/12 [==============================] - 2s 171ms/step - loss: 2.6692e-04 - val_loss: 0.0039\n",
            "Epoch 88/100\n",
            "12/12 [==============================] - 2s 169ms/step - loss: 2.5570e-04 - val_loss: 0.0046\n",
            "Epoch 89/100\n",
            "12/12 [==============================] - 2s 169ms/step - loss: 2.5871e-04 - val_loss: 0.0022\n",
            "Epoch 90/100\n",
            "12/12 [==============================] - 2s 167ms/step - loss: 2.4553e-04 - val_loss: 0.0043\n",
            "Epoch 91/100\n",
            "12/12 [==============================] - 2s 171ms/step - loss: 2.4468e-04 - val_loss: 0.0024\n",
            "Epoch 92/100\n",
            "12/12 [==============================] - 2s 171ms/step - loss: 2.4169e-04 - val_loss: 0.0051\n",
            "Epoch 93/100\n",
            "12/12 [==============================] - 2s 169ms/step - loss: 3.3186e-04 - val_loss: 0.0018\n",
            "Epoch 94/100\n",
            "12/12 [==============================] - 2s 168ms/step - loss: 2.6133e-04 - val_loss: 0.0030\n",
            "Epoch 95/100\n",
            "12/12 [==============================] - 2s 172ms/step - loss: 2.5701e-04 - val_loss: 0.0042\n",
            "Epoch 96/100\n",
            "12/12 [==============================] - 2s 173ms/step - loss: 2.4635e-04 - val_loss: 0.0011\n",
            "Epoch 97/100\n",
            "12/12 [==============================] - 2s 170ms/step - loss: 3.7191e-04 - val_loss: 0.0111\n",
            "Epoch 98/100\n",
            "12/12 [==============================] - 2s 172ms/step - loss: 5.5312e-04 - val_loss: 0.0051\n",
            "Epoch 99/100\n",
            "12/12 [==============================] - 2s 170ms/step - loss: 3.6162e-04 - val_loss: 9.9745e-04\n",
            "Epoch 100/100\n",
            "12/12 [==============================] - 2s 170ms/step - loss: 3.7553e-04 - val_loss: 0.0017\n"
          ]
        },
        {
          "output_type": "execute_result",
          "data": {
            "text/plain": [
              "<keras.callbacks.History at 0x7f259523f510>"
            ]
          },
          "metadata": {},
          "execution_count": 26
        }
      ]
    },
    {
      "cell_type": "code",
      "source": [
        "import tensorflow as tf"
      ],
      "metadata": {
        "id": "pbcKA7jkC4rC"
      },
      "execution_count": null,
      "outputs": []
    },
    {
      "cell_type": "code",
      "source": [
        "## lets Do the predictiion and check performance metrics\n",
        "train_predict=model.predict(x_train)\n",
        "test_predict=model.predict(x_test)"
      ],
      "metadata": {
        "id": "oqiWbcxFDJoB"
      },
      "execution_count": null,
      "outputs": []
    },
    {
      "cell_type": "code",
      "source": [
        "#transformback to original original form\n",
        "train_predict=Scaler.inverse_transform(train_predict)\n",
        "test_predict=Scaler.inverse_transform(test_predict)"
      ],
      "metadata": {
        "id": "umNdMezSE40x"
      },
      "execution_count": null,
      "outputs": []
    },
    {
      "cell_type": "code",
      "source": [
        "import math\n",
        "from sklearn.metrics import mean_squared_error\n",
        "math.sqrt(mean_squared_error(y_train,train_predict))"
      ],
      "metadata": {
        "colab": {
          "base_uri": "https://localhost:8080/"
        },
        "id": "MfxELGwpFemp",
        "outputId": "8793fa9f-4f33-4785-dc6f-2aa70fc01a10"
      },
      "execution_count": null,
      "outputs": [
        {
          "output_type": "execute_result",
          "data": {
            "text/plain": [
              "66.966608188717"
            ]
          },
          "metadata": {},
          "execution_count": 31
        }
      ]
    },
    {
      "cell_type": "code",
      "source": [
        "math.sqrt(mean_squared_error(y_test,test_predict))"
      ],
      "metadata": {
        "colab": {
          "base_uri": "https://localhost:8080/"
        },
        "id": "btNBWJKbGTMy",
        "outputId": "5da8e4f1-d482-49a8-8b10-464c2ca6cd11"
      },
      "execution_count": null,
      "outputs": [
        {
          "output_type": "execute_result",
          "data": {
            "text/plain": [
              "147.6881228215367"
            ]
          },
          "metadata": {},
          "execution_count": 32
        }
      ]
    },
    {
      "cell_type": "code",
      "source": [
        "### Plotting \n",
        "\n",
        "# shift train predictions for plotting\n",
        "\n",
        "look_back=100\n",
        "\n",
        "trainPredictPlot = numpy.empty_like(df1)\n",
        "\n",
        "trainPredictPlot[:, :] = np.nan\n",
        "\n",
        "trainPredictPlot[look_back:len(train_predict)+look_back, :] = train_predict\n",
        "\n",
        "# shift test predictions for plotting\n",
        "\n",
        "testPredictPlot = numpy.empty_like(df1)\n",
        "\n",
        "testPredictPlot[:, :] = numpy.nan\n",
        "\n",
        "testPredictPlot[len(train_predict)+(look_back*2)+1:len(df1)-1, :] = test_predict\n",
        "\n",
        "# plot baseline and predictions\n",
        "\n",
        "plt.figure(figsize=(15,10))\n",
        "\n",
        "plt.plot(Scaler.inverse_transform(df1),label='Original data')\n",
        "\n",
        "plt.plot(trainPredictPlot,label=\"train prediction\")\n",
        "\n",
        "plt.plot(testPredictPlot,label=\"test prediction\")\n",
        "\n",
        "plt.legend()\n",
        "\n",
        "plt.show()"
      ],
      "metadata": {
        "colab": {
          "base_uri": "https://localhost:8080/",
          "height": 592
        },
        "id": "claTBDu9Gjzx",
        "outputId": "f2a62854-aee1-405c-fa0c-9de9879b59de"
      },
      "execution_count": null,
      "outputs": [
        {
          "output_type": "display_data",
          "data": {
            "text/plain": [
              "<Figure size 1080x720 with 1 Axes>"
            ],
            "image/png": "[encoded data removed]"
          },
          "metadata": {
            "needs_background": "light"
          }
        }
      ]
    },
    {
      "cell_type": "code",
      "source": [
        ""
      ],
      "metadata": {
        "id": "7lAuPYNqHVWq"
      },
      "execution_count": null,
      "outputs": []
    }
  ]
}